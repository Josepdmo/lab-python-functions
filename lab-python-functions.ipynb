{
 "cells": [
  {
   "cell_type": "markdown",
   "id": "25d7736c-ba17-4aff-b6bb-66eba20fbf4e",
   "metadata": {},
   "source": [
    "# Lab | Functions"
   ]
  },
  {
   "cell_type": "markdown",
   "id": "0c581062-8967-4d93-b06e-62833222f930",
   "metadata": {
    "tags": []
   },
   "source": [
    "## Exercise: Managing Customer Orders with Functions\n",
    "\n",
    "In the previous exercise, you improved the code for managing customer orders by using loops and flow control. Now, let's take it a step further and refactor the code by introducing functions.\n",
    "\n",
    "Follow the steps below to complete the exercise:\n",
    "\n",
    "1. Define a function named `initialize_inventory` that takes `products` as a parameter. Inside the function, implement the code for initializing the inventory dictionary using a loop and user input.\n",
    "\n",
    "2. Define a function named `get_customer_orders` that takes no parameters. Inside the function, implement the code for prompting the user to enter the product names using a loop. The function should return the `customer_orders` set.\n",
    "\n",
    "3. Define a function named `update_inventory` that takes `customer_orders` and `inventory` as parameters. Inside the function, implement the code for updating the inventory dictionary based on the customer orders.\n",
    "\n",
    "4. Define a function named `calculate_order_statistics` that takes `customer_orders` and `products` as parameters. Inside the function, implement the code for calculating the order statistics (total products ordered, and percentage of unique products ordered). The function should return these values.\n",
    "\n",
    "5. Define a function named `print_order_statistics` that takes `order_statistics` as a parameter. Inside the function, implement the code for printing the order statistics.\n",
    "\n",
    "6. Define a function named `print_updated_inventory` that takes `inventory` as a parameter. Inside the function, implement the code for printing the updated inventory.\n",
    "\n",
    "7. Call the functions in the appropriate sequence to execute the program and manage customer orders.\n",
    "\n",
    "Hints for functions:\n",
    "\n",
    "- Consider the input parameters required for each function and their return values.\n",
    "- Utilize function parameters and return values to transfer data between functions.\n",
    "- Test your functions individually to ensure they work correctly.\n",
    "\n",
    "\n"
   ]
  },
  {
   "cell_type": "code",
   "execution_count": 79,
   "id": "473e9ac7",
   "metadata": {},
   "outputs": [],
   "source": [
    " # Define a function named `initialize_inventory` that takes `products` as a parameter. \n",
    " # Inside the function, implement the code for initializing the inventory dictionary using a loop and user input.\n",
    "\n",
    "def initialize_inventory(products):\n",
    "    products = [\"t-shirt\", \"mug\", \"hat\", \"book\", \"keychain\"]\n",
    "    inventory = {}\n",
    "    for element in products:\n",
    "        cuantity = int(input(f\"How many {element} are there?\"))\n",
    "        inventory[element] = cuantity\n",
    "    return inventory\n",
    "\n",
    "inventory = initialize_inventory(products)\n",
    "\n",
    "    "
   ]
  },
  {
   "cell_type": "code",
   "execution_count": 81,
   "id": "731466e4",
   "metadata": {},
   "outputs": [
    {
     "name": "stdout",
     "output_type": "stream",
     "text": [
      "{'mug', 'hat', 'keychain', 'book'}\n"
     ]
    }
   ],
   "source": [
    "#2. Define a function named `get_customer_orders` that takes no parameters. Inside the function, implement the code \n",
    "# for prompting the user to enter the product names using a loop. The function should return the `customer_orders` set.\n",
    "def get_customer_orders():\n",
    "    customer_orders = set()\n",
    "    products = [\"t-shirt\", \"mug\", \"hat\", \"book\", \"keychain\"]\n",
    "    while True:\n",
    "        product = input(\"Enter the name of the product the customer wants to order: \").strip().lower()\n",
    "        if product in products:\n",
    "            customer_orders.add(product)\n",
    "        else:\n",
    "            print(\"Invalid product. Please enter a valid product name.\")\n",
    "        another = input(\"Do you want to add another product? (yes/no): \").strip().lower()\n",
    "        if another != 'yes':\n",
    "            break\n",
    "    return customer_orders\n",
    "\n",
    "orders_from_customers = get_customer_orders()\n",
    "print(orders_from_customers)\n"
   ]
  },
  {
   "cell_type": "code",
   "execution_count": null,
   "id": "2d15fed1",
   "metadata": {},
   "outputs": [],
   "source": []
  },
  {
   "cell_type": "code",
   "execution_count": 82,
   "id": "21d781f4",
   "metadata": {},
   "outputs": [
    {
     "data": {
      "text/plain": [
       "{'t-shirt': 1, 'mug': 1, 'hat': 1, 'book': 1, 'keychain': 1}"
      ]
     },
     "execution_count": 82,
     "metadata": {},
     "output_type": "execute_result"
    }
   ],
   "source": [
    "#3. Define a function named `update_inventory` that takes `customer_orders` and `inventory` as parameters. \n",
    "# Inside the function, implement the code for updating the inventory dictionary based on the customer orders..\n",
    "\n",
    "def update_inventory (customer_orders, inventory):\n",
    "    for keys, values in inventory.items():\n",
    "        for elements in customer_orders:\n",
    "            if keys == elements:\n",
    "                values = values-1\n",
    "                inventory[keys] = values\n",
    "    return inventory\n",
    "\n",
    "update_inventory(orders_from_customers, inventory)\n",
    "\n",
    "    "
   ]
  },
  {
   "cell_type": "code",
   "execution_count": 83,
   "id": "214ea894",
   "metadata": {},
   "outputs": [
    {
     "name": "stdout",
     "output_type": "stream",
     "text": [
      "['for mug the percentage is 1.0', 'for hat the percentage is 1.0', 'for book the percentage is 1.0', 'for keychain the percentage is 1.0', 'the customer has bought a total of 4 items']\n"
     ]
    }
   ],
   "source": [
    "#4. Define a function named `calculate_order_statistics` that takes `customer_orders` and `products` as parameters. \n",
    "# Inside the function, implement the code for calculating the order statistics (total products ordered, \n",
    "# and percentage of unique products ordered). The function should return these values.\n",
    "\n",
    "def calculate_order_statistics (customer_orders, products):\n",
    "    products = [\"t-shirt\", \"mug\", \"hat\", \"book\", \"keychain\"]\n",
    "    order_stats = []\n",
    "    for keys, values in inventory.items():\n",
    "        for element in orders_from_customers:\n",
    "            if element == keys:\n",
    "                stats = 1/values #I divide 1 by value because 1 represents the unique values of the customer_orders\n",
    "                order_stats.append(f\"for {keys} the percentage is {stats}\")\n",
    "    order_stats.append(f\"the customer has bought a total of {len(orders_from_customers)} items\")\n",
    "    return order_stats\n",
    "\n",
    "print(calculate_order_statistics (orders_from_customers, products))\n",
    "\n"
   ]
  },
  {
   "cell_type": "code",
   "execution_count": 84,
   "id": "627a8ba0",
   "metadata": {},
   "outputs": [
    {
     "name": "stdout",
     "output_type": "stream",
     "text": [
      "['for mug the percentage is 1.0', 'for hat the percentage is 1.0', 'for book the percentage is 1.0', 'for keychain the percentage is 1.0', 'the customer has bought a total of 4 items']\n"
     ]
    }
   ],
   "source": [
    "#5. Define a function named `print_order_statistics` that takes `order_statistics` as a parameter. \n",
    "# Inside the function, implement the code for printing the order statistics\n",
    "\n",
    "def print_order_statistics(order_statistics):\n",
    "    order_statistics = calculate_order_statistics (orders_from_customers, products)\n",
    "    print(order_statistics)\n",
    "\n",
    "print_order_statistics(\"order_statistics\")"
   ]
  },
  {
   "cell_type": "code",
   "execution_count": 85,
   "id": "035e5ddb",
   "metadata": {},
   "outputs": [
    {
     "name": "stdout",
     "output_type": "stream",
     "text": [
      "{'t-shirt': 1, 'mug': 0, 'hat': 0, 'book': 0, 'keychain': 0}\n"
     ]
    }
   ],
   "source": [
    "# 6. Define a function named `print_updated_inventory` that takes `inventory` as a parameter. \n",
    "# Inside the function, implement the code for printing the updated inventory.\n",
    "\n",
    "def print_updated_inventory (inventory):\n",
    "    inventory = update_inventory (orders_from_customers, inventory)\n",
    "    print(inventory)\n",
    "\n",
    "print_updated_inventory(inventory)"
   ]
  }
 ],
 "metadata": {
  "kernelspec": {
   "display_name": "Python 3 (ipykernel)",
   "language": "python",
   "name": "python3"
  },
  "language_info": {
   "codemirror_mode": {
    "name": "ipython",
    "version": 3
   },
   "file_extension": ".py",
   "mimetype": "text/x-python",
   "name": "python",
   "nbconvert_exporter": "python",
   "pygments_lexer": "ipython3",
   "version": "3.11.7"
  }
 },
 "nbformat": 4,
 "nbformat_minor": 5
}
